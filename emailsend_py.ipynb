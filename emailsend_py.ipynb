{
  "nbformat": 4,
  "nbformat_minor": 0,
  "metadata": {
    "colab": {
      "provenance": [],
      "authorship_tag": "ABX9TyObjm3OkDI1ZqqD0sjGRb0c",
      "include_colab_link": true
    },
    "kernelspec": {
      "name": "python3",
      "display_name": "Python 3"
    },
    "language_info": {
      "name": "python"
    }
  },
  "cells": [
    {
      "cell_type": "markdown",
      "metadata": {
        "id": "view-in-github",
        "colab_type": "text"
      },
      "source": [
        "<a href=\"https://colab.research.google.com/github/syunko0114/miwakunosiro/blob/main/emailsend_py.ipynb\" target=\"_parent\"><img src=\"https://colab.research.google.com/assets/colab-badge.svg\" alt=\"Open In Colab\"/></a>"
      ]
    },
    {
      "cell_type": "code",
      "execution_count": 1,
      "metadata": {
        "id": "cJS40Gq8RjFC"
      },
      "outputs": [],
      "source": [
        "from email.mime.text import MIMEText\n",
        "import smtplib\n",
        "from email import policy\n",
        "\n",
        "account = \"xxbluesky0114xx@gmail.com\"\n",
        "password = \"evgeibemqpoysqls\"\n",
        "to_email = \"syun_120114@icloud.com\"\n",
        "from_email = \"xxbluesky0114xx@gmail.com\"\n",
        "smtp_host = \"smtp.gmail.com\"\n",
        "smtp_port = 587\n",
        "\n",
        "subject = \"Subject\"\n",
        "message = \"This is test.\"\n",
        "msg = MIMEText(message, \"plain\", policy=policy.default)\n",
        "msg[\"Subject\"] = subject\n",
        "msg[\"To\"] = to_email\n",
        "msg[\"From\"] = from_email\n",
        "\n",
        "with smtplib.SMTP(smtp_host, smtp_port) as smtp:\n",
        "    smtp.starttls()\n",
        "    smtp.login(account, password)\n",
        "    smtp.send_message(msg)"
      ]
    }
  ]
}